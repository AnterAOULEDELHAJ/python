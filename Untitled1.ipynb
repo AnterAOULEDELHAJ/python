{
  "nbformat": 4,
  "nbformat_minor": 0,
  "metadata": {
    "colab": {
      "name": "Untitled1.ipynb",
      "provenance": [],
      "authorship_tag": "ABX9TyOhloyoSahOP1MlG4NSQvnB",
      "include_colab_link": true
    },
    "kernelspec": {
      "name": "python3",
      "display_name": "Python 3"
    },
    "language_info": {
      "name": "python"
    }
  },
  "cells": [
    {
      "cell_type": "markdown",
      "metadata": {
        "id": "view-in-github",
        "colab_type": "text"
      },
      "source": [
        "<a href=\"https://colab.research.google.com/github/AnterAOULEDELHAJ/python/blob/main/Untitled1.ipynb\" target=\"_parent\"><img src=\"https://colab.research.google.com/assets/colab-badge.svg\" alt=\"Open In Colab\"/></a>"
      ]
    },
    {
      "cell_type": "code",
      "execution_count": 1,
      "metadata": {
        "id": "7wzbMGfbwP8D"
      },
      "outputs": [],
      "source": [
        "def print_text():\n",
        " print(\"This message is from an external module\")"
      ]
    },
    {
      "cell_type": "code",
      "source": [
        "print_text()"
      ],
      "metadata": {
        "colab": {
          "base_uri": "https://localhost:8080/"
        },
        "id": "Q2bUdjTNwUoF",
        "outputId": "b84b24d5-53ba-481b-ea77-25f48c7d6f06"
      },
      "execution_count": 2,
      "outputs": [
        {
          "output_type": "stream",
          "name": "stdout",
          "text": [
            "This message is from an external module\n"
          ]
        }
      ]
    }
  ]
}