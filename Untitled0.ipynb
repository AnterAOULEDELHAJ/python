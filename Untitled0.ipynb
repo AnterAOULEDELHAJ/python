{
  "nbformat": 4,
  "nbformat_minor": 0,
  "metadata": {
    "colab": {
      "name": "Untitled0.ipynb",
      "provenance": [],
      "collapsed_sections": [],
      "toc_visible": true,
      "authorship_tag": "ABX9TyMKYkSDcdsXBFX8zCUvnOTw",
      "include_colab_link": true
    },
    "kernelspec": {
      "name": "python3",
      "display_name": "Python 3"
    },
    "language_info": {
      "name": "python"
    }
  },
  "cells": [
    {
      "cell_type": "markdown",
      "metadata": {
        "id": "view-in-github",
        "colab_type": "text"
      },
      "source": [
        "<a href=\"https://colab.research.google.com/github/AnterAOULEDELHAJ/python/blob/main/Untitled0.ipynb\" target=\"_parent\"><img src=\"https://colab.research.google.com/assets/colab-badge.svg\" alt=\"Open In Colab\"/></a>"
      ]
    },
    {
      "cell_type": "code",
      "execution_count": 11,
      "metadata": {
        "colab": {
          "base_uri": "https://localhost:8080/",
          "height": 253
        },
        "id": "dAp1xP623Hbw",
        "outputId": "67648e61-c51f-4221-ef0f-489f547ba0a3"
      },
      "outputs": [
        {
          "output_type": "display_data",
          "data": {
            "text/plain": [
              "<Figure size 432x288 with 1 Axes>"
            ],
            "image/png": "[encoded data removed]"
          },
          "metadata": {}
        }
      ],
      "source": [
        "import matplotlib.pyplot as plt\n",
        "activities = ['manger', 'dormir', 'travailler', 'divertissement']\n",
        "slices = [5, 2, 6, 4]\n",
        "colors = ['r', 'y', 'g', 'b']\n",
        "plt.pie(slices, labels = activities, colors=colors,\n",
        "startangle=90, shadow = True, explode = (0, 0, 0.1, 0),\n",
        "radius = 1.2, autopct = '%1.f%%')\n",
        "plt.legend()\n",
        "plt.show()"
      ]
    },
    {
      "cell_type": "code",
      "source": [
        ""
      ],
      "metadata": {
        "id": "ZfU1CxsIN9iQ"
      },
      "execution_count": null,
      "outputs": []
    },
    {
      "cell_type": "code",
      "source": [
        "x=15\n",
        "y=10\n",
        "x/y\n",
        "print(type (x%y))\n",
        "\n",
        "print(type (3E-5))"
      ],
      "metadata": {
        "colab": {
          "base_uri": "https://localhost:8080/"
        },
        "id": "7ceioEnQKWML",
        "outputId": "b1bfd194-b98d-4fc1-8370-5fce5274529e"
      },
      "execution_count": 36,
      "outputs": [
        {
          "output_type": "stream",
          "name": "stdout",
          "text": [
            "<class 'int'>\n",
            "<class 'float'>\n"
          ]
        }
      ]
    },
    {
      "cell_type": "code",
      "source": [
        "import keyword\n",
        "keyword.kwlist"
      ],
      "metadata": {
        "colab": {
          "base_uri": "https://localhost:8080/"
        },
        "id": "hGDcS4ubOAbQ",
        "outputId": "c4a5eb51-3ee5-424e-8554-a8de3f93c94e"
      },
      "execution_count": 38,
      "outputs": [
        {
          "output_type": "execute_result",
          "data": {
            "text/plain": [
              "['False',\n",
              " 'None',\n",
              " 'True',\n",
              " 'and',\n",
              " 'as',\n",
              " 'assert',\n",
              " 'async',\n",
              " 'await',\n",
              " 'break',\n",
              " 'class',\n",
              " 'continue',\n",
              " 'def',\n",
              " 'del',\n",
              " 'elif',\n",
              " 'else',\n",
              " 'except',\n",
              " 'finally',\n",
              " 'for',\n",
              " 'from',\n",
              " 'global',\n",
              " 'if',\n",
              " 'import',\n",
              " 'in',\n",
              " 'is',\n",
              " 'lambda',\n",
              " 'nonlocal',\n",
              " 'not',\n",
              " 'or',\n",
              " 'pass',\n",
              " 'raise',\n",
              " 'return',\n",
              " 'try',\n",
              " 'while',\n",
              " 'with',\n",
              " 'yield']"
            ]
          },
          "metadata": {},
          "execution_count": 38
        }
      ]
    },
    {
      "cell_type": "code",
      "source": [
        ""
      ],
      "metadata": {
        "id": "i1md4tWPOVK_"
      },
      "execution_count": null,
      "outputs": []
    },
    {
      "cell_type": "code",
      "source": [
        "ma_chaine='''bonjour\n",
        "tous le monde'''\n",
        "print(ma_chaine)"
      ],
      "metadata": {
        "colab": {
          "base_uri": "https://localhost:8080/"
        },
        "id": "n3VbUG-aOVMX",
        "outputId": "d9388f81-fab0-45ce-b778-c30fdb6b6919"
      },
      "execution_count": 42,
      "outputs": [
        {
          "output_type": "stream",
          "name": "stdout",
          "text": [
            "bonjour\n",
            "tous le monde\n"
          ]
        }
      ]
    },
    {
      "cell_type": "code",
      "source": [
        "ch=\"j'aime le python\"\n",
        "print(ch)"
      ],
      "metadata": {
        "colab": {
          "base_uri": "https://localhost:8080/"
        },
        "id": "pjSN2MiMPFao",
        "outputId": "eafa3aab-daa2-4b43-b5c2-271bba41ce5b"
      },
      "execution_count": 43,
      "outputs": [
        {
          "output_type": "stream",
          "name": "stdout",
          "text": [
            "j'aime le python\n"
          ]
        }
      ]
    },
    {
      "cell_type": "code",
      "source": [
        "ch2='j\\'aime le python'\n",
        "print(ch2)"
      ],
      "metadata": {
        "colab": {
          "base_uri": "https://localhost:8080/"
        },
        "id": "lI1RIOayQdzO",
        "outputId": "e401cc91-70ac-48be-c307-d69017185e23"
      },
      "execution_count": 44,
      "outputs": [
        {
          "output_type": "stream",
          "name": "stdout",
          "text": [
            "j'aime le python\n"
          ]
        }
      ]
    },
    {
      "cell_type": "code",
      "source": [
        "from re import A\n",
        "a=7\n",
        "b=2\n",
        "a,b=b,a\n",
        "print(a)\n",
        "print(b)"
      ],
      "metadata": {
        "colab": {
          "base_uri": "https://localhost:8080/"
        },
        "id": "ARPgWMRbRgqt",
        "outputId": "e224ca6b-2808-41f9-c012-7cc469401403"
      },
      "execution_count": 47,
      "outputs": [
        {
          "output_type": "stream",
          "name": "stdout",
          "text": [
            "2\n",
            "7\n"
          ]
        }
      ]
    },
    {
      "cell_type": "code",
      "source": [
        "annee = input (\"saisissez une année:\")\n",
        "print (annee)\n",
        "type (annee)"
      ],
      "metadata": {
        "colab": {
          "base_uri": "https://localhost:8080/"
        },
        "id": "sSwjBYi4TAcn",
        "outputId": "786a9057-969a-426f-d3a3-e85d47fac136"
      },
      "execution_count": 50,
      "outputs": [
        {
          "output_type": "stream",
          "name": "stdout",
          "text": [
            "saisissez une année:2007\n",
            "2007\n"
          ]
        },
        {
          "output_type": "execute_result",
          "data": {
            "text/plain": [
              "str"
            ]
          },
          "metadata": {},
          "execution_count": 50
        }
      ]
    },
    {
      "cell_type": "code",
      "source": [
        ""
      ],
      "metadata": {
        "id": "3hEqmIfHTxSN"
      },
      "execution_count": null,
      "outputs": []
    },
    {
      "cell_type": "code",
      "source": [
        "a = input (\"entrez un entier\")\n",
        "b = input (\"entrez un deuxieme entier\")\n",
        "print(a+b)"
      ],
      "metadata": {
        "colab": {
          "base_uri": "https://localhost:8080/"
        },
        "id": "h8PtjzAbTxTj",
        "outputId": "724cd09d-7a4f-480e-e084-9b983c5ceac5"
      },
      "execution_count": 52,
      "outputs": [
        {
          "output_type": "stream",
          "name": "stdout",
          "text": [
            "entrez un entier5\n",
            "entrez un deuxieme entier7\n",
            "57\n"
          ]
        }
      ]
    },
    {
      "cell_type": "code",
      "source": [
        "a = int (input (\"entrer un entier\"))\n",
        "b = int (input (\"entrer un deuxieme entier\"))\n",
        "print(a+b)"
      ],
      "metadata": {
        "colab": {
          "base_uri": "https://localhost:8080/"
        },
        "id": "rzFo5GwAUU5t",
        "outputId": "826ae2aa-8c92-48cd-a5f6-13f93b5791c7"
      },
      "execution_count": 54,
      "outputs": [
        {
          "output_type": "stream",
          "name": "stdout",
          "text": [
            "entrez un entier5\n",
            "entrez un deuxieme entier7\n",
            "12\n"
          ]
        }
      ]
    },
    {
      "cell_type": "code",
      "source": [
        "hauteur = float (input (\"entrer l'hauteur\"))\n",
        "rayon = float (input (\"entrer le rayon\"))\n",
        "pi=3.14\n",
        "volume = ((1/3)*pi* hauteur * hauteur * rayon )\n",
        "print(volume)\n"
      ],
      "metadata": {
        "colab": {
          "base_uri": "https://localhost:8080/"
        },
        "id": "9Pk03QZ7V-CV",
        "outputId": "dbf444f1-61c7-4338-bb0d-d63d9b61a7ec"
      },
      "execution_count": 56,
      "outputs": [
        {
          "output_type": "stream",
          "name": "stdout",
          "text": [
            "entrer l'hauteur5\n",
            "entrer le rayon7\n",
            "183.16666666666669\n"
          ]
        }
      ]
    },
    {
      "cell_type": "code",
      "source": [
        "n= int (input(\"entrez un entier\"))\n",
        "somme = (n + n*11+ n*111)\n",
        "print (somme)\n"
      ],
      "metadata": {
        "colab": {
          "base_uri": "https://localhost:8080/"
        },
        "id": "usiCsImHXrsz",
        "outputId": "87cfdbbe-49a7-4e16-a907-0baf8e4b65e2"
      },
      "execution_count": 59,
      "outputs": [
        {
          "output_type": "stream",
          "name": "stdout",
          "text": [
            "entrez un entier6\n",
            "738\n"
          ]
        }
      ]
    },
    {
      "cell_type": "code",
      "source": [
        "x=int(input())\n",
        "y=int(input())\n",
        "z=(x+y)**2\n",
        "print(z)"
      ],
      "metadata": {
        "colab": {
          "base_uri": "https://localhost:8080/"
        },
        "id": "k8DnrTHsYnZy",
        "outputId": "eb943337-a705-42f4-d50b-8c92432479b3"
      },
      "execution_count": 61,
      "outputs": [
        {
          "output_type": "stream",
          "name": "stdout",
          "text": [
            "2\n",
            "4\n",
            "36\n"
          ]
        }
      ]
    },
    {
      "cell_type": "code",
      "source": [
        "x=int(input(\"Saisissez nombre de secondes: \"))\n",
        "Jour=x//86400\n",
        "H=(x%86400)//3600\n",
        "M=((x%86400)%3600)//60\n",
        "s=(((x%86400)%3600))%60\n",
        "print (Jour,\"jour, \",H,\"Heures ,\",M,\"Minutes ,\",s,\"Secondes\")\n",
        "\n",
        "\n",
        "\n"
      ],
      "metadata": {
        "colab": {
          "base_uri": "https://localhost:8080/"
        },
        "id": "9h_yixoqY9NI",
        "outputId": "0e84c0f1-1fb2-49f8-85ff-f6f6ba97c64d"
      },
      "execution_count": 101,
      "outputs": [
        {
          "output_type": "stream",
          "name": "stdout",
          "text": [
            "Saisissez nombre de secondes: 90063\n",
            "1 jour,  1 Heures , 1 Minutes , 3 Secondes\n"
          ]
        }
      ]
    },
    {
      "cell_type": "code",
      "source": [
        "ch='532'\n",
        "while len(ch)!=4:\n",
        "  ch=input(\"Saisissez nombre de 4 chiffres: \")\n",
        "a=int(ch)//1000\n",
        "b=(int(ch)%1000)//100\n",
        "c=((int(ch)%1000)%100)//10\n",
        "d=((int(ch)%1000)%100)%10\n",
        "print(a+b+c+d)\n",
        "\n",
        "\n",
        "\n",
        "\n",
        "\n",
        "\n",
        "\n",
        "\n",
        "\n"
      ],
      "metadata": {
        "colab": {
          "base_uri": "https://localhost:8080/"
        },
        "id": "6BhGMIKvdd4X",
        "outputId": "21a25567-1551-4ca9-b8b0-b3c9e51c354e"
      },
      "execution_count": 117,
      "outputs": [
        {
          "output_type": "stream",
          "name": "stdout",
          "text": [
            "Saisissez nombre de 4 chiffres: 1111\n",
            "4\n"
          ]
        }
      ]
    },
    {
      "cell_type": "code",
      "source": [
        "# exercice 2 tp3\n",
        "ch = input(\"entrer une chaine de caractere\")\n",
        "ch1 = input(\"entrer une deuxieme chaine de caractere\") \n",
        "ch3= ch.replace(ch[0:2],ch1[0:2])\n",
        "ch4=ch1.replace(ch1[0:2],ch[0:2])\n",
        "print(ch3 + ch4)\n",
        "\n"
      ],
      "metadata": {
        "colab": {
          "base_uri": "https://localhost:8080/"
        },
        "id": "0niXB0600Kej",
        "outputId": "161df936-356a-4736-eff3-196606ed6d1d"
      },
      "execution_count": 124,
      "outputs": [
        {
          "output_type": "stream",
          "name": "stdout",
          "text": [
            "entrer une chaine de caractereabc\n",
            "entrer une deuxieme chaine de caracterexyz\n",
            "xycabz\n"
          ]
        }
      ]
    },
    {
      "cell_type": "code",
      "source": [
        "#Exercice 3\n",
        "ch5 = input(\"entrer une chaine de caractere\")\n",
        "n=int(input(\"Saisissez nombre: \"))\n",
        "ch6=ch5[:n]\n",
        "ch7=ch5[n+1:]\n",
        "ch8=ch6+ch7\n",
        "print(ch8)\n",
        "\n"
      ],
      "metadata": {
        "colab": {
          "base_uri": "https://localhost:8080/"
        },
        "id": "3sh3wn_yunLW",
        "outputId": "747e4c6a-fc1c-4699-ff0e-8484548bf3ec"
      },
      "execution_count": 37,
      "outputs": [
        {
          "output_type": "stream",
          "name": "stdout",
          "text": [
            "entrer une chaine de caracterebonjour\n",
            "Saisissez nombre: 2\n",
            "bojour\n"
          ]
        }
      ]
    },
    {
      "cell_type": "code",
      "source": [
        "#exercice 3 partie B\n",
        "ch=input(\"entrer un chaine de caractere\")\n",
        "ch1=ch[-1]\n",
        "ch2=ch[0]\n",
        "ch3=ch[1:-1]\n",
        "ch4=ch1+ch3+ch2\n",
        "print(ch4)"
      ],
      "metadata": {
        "colab": {
          "base_uri": "https://localhost:8080/"
        },
        "id": "FBzo7EvJyyPj",
        "outputId": "dd7a4aef-47bf-4526-e0dd-0153650342f1"
      },
      "execution_count": 41,
      "outputs": [
        {
          "output_type": "stream",
          "name": "stdout",
          "text": [
            "entrer un chaine de caractereabcd\n",
            "dbca\n"
          ]
        }
      ]
    },
    {
      "cell_type": "code",
      "source": [
        "#Exercice 4:\n",
        "\n",
        "txt='''Python est le langage de programmation open source le plus\n",
        "employé par les informaticiens. Ce langage s’est propulsé en tête de la\n",
        "gestion d’infrastructure, d’analyse de données ou dans le domaine du\n",
        "développement de logiciels. En effet, parmi ses qualités, Python permet\n",
        "notamment aux développeurs de se concentrer sur ce qu’ils font plutôt\n",
        "que sur la manière dont ils le font. Il a libéré les développeurs des\n",
        "contraintes de formes qui occupaient leur temps avec les langages plus\n",
        "anciens. Ainsi, développer du code avec Python est plus rapide qu’avec d’autres\n",
        "langages.'''\n",
        "#1\n",
        "print(txt)\n",
        "#2\n",
        "txt.count('',0,-1)\n",
        "#3\n",
        "print(txt.split())\n",
        "#4 une liste\n",
        "#5\n",
        "x = txt.split(\"le\")\n",
        "print(x)\n",
        "#6 split(\".\")\n",
        "#7\n",
        "print(txt.upper())\n",
        "print(txt.lower())\n",
        "#8\n",
        "print(txt.startswith('Py'))\n",
        "print(txt.endswith('ga'))\n",
        "\n",
        "#9\n",
        "txt2=\"Dans cette formation on va voir à quoi peut servir Python.\"\n",
        "txt3=txt2+txt\n",
        "print(txt3)\n",
        "#10\n",
        "txt.find('programmation')\n",
        "#11 Non\n",
        "#12 -1\n",
        "#13\n",
        "txt=txt.replace('domaine','secteur')\n",
        "print(txt)\n",
        "\n"
      ],
      "metadata": {
        "colab": {
          "base_uri": "https://localhost:8080/"
        },
        "id": "0gk1wOer0Hiy",
        "outputId": "b26914fd-c7ae-48f4-87ff-037b1e126265"
      },
      "execution_count": 64,
      "outputs": [
        {
          "output_type": "stream",
          "name": "stdout",
          "text": [
            "Python est le langage de programmation open source le plus\n",
            "employé par les informaticiens. Ce langage s’est propulsé en tête de la\n",
            "gestion d’infrastructure, d’analyse de données ou dans le domaine du\n",
            "développement de logiciels. En effet, parmi ses qualités, Python permet\n",
            "notamment aux développeurs de se concentrer sur ce qu’ils font plutôt\n",
            "que sur la manière dont ils le font. Il a libéré les développeurs des\n",
            "contraintes de formes qui occupaient leur temps avec les langages plus\n",
            "anciens. Ainsi, développer du code avec Python est plus rapide qu’avec d’autres\n",
            "langages.\n",
            "['Python', 'est', 'le', 'langage', 'de', 'programmation', 'open', 'source', 'le', 'plus', 'employé', 'par', 'les', 'informaticiens.', 'Ce', 'langage', 's’est', 'propulsé', 'en', 'tête', 'de', 'la', 'gestion', 'd’infrastructure,', 'd’analyse', 'de', 'données', 'ou', 'dans', 'le', 'domaine', 'du', 'développement', 'de', 'logiciels.', 'En', 'effet,', 'parmi', 'ses', 'qualités,', 'Python', 'permet', 'notamment', 'aux', 'développeurs', 'de', 'se', 'concentrer', 'sur', 'ce', 'qu’ils', 'font', 'plutôt', 'que', 'sur', 'la', 'manière', 'dont', 'ils', 'le', 'font.', 'Il', 'a', 'libéré', 'les', 'développeurs', 'des', 'contraintes', 'de', 'formes', 'qui', 'occupaient', 'leur', 'temps', 'avec', 'les', 'langages', 'plus', 'anciens.', 'Ainsi,', 'développer', 'du', 'code', 'avec', 'Python', 'est', 'plus', 'rapide', 'qu’avec', 'd’autres', 'langages.']\n",
            "['Python est ', ' langage de programmation open source ', ' plus\\nemployé par ', 's informaticiens. Ce langage s’est propulsé en tête de la\\ngestion d’infrastructure, d’analyse de données ou dans ', ' domaine du\\ndéveloppement de logiciels. En effet, parmi ses qualités, Python permet\\nnotamment aux développeurs de se concentrer sur ce qu’ils font plutôt\\nque sur la manière dont ils ', ' font. Il a libéré ', 's développeurs des\\ncontraintes de formes qui occupaient ', 'ur temps avec ', 's langages plus\\nanciens. Ainsi, développer du code avec Python est plus rapide qu’avec d’autres\\nlangages.']\n",
            "PYTHON EST LE LANGAGE DE PROGRAMMATION OPEN SOURCE LE PLUS\n",
            "EMPLOYÉ PAR LES INFORMATICIENS. CE LANGAGE S’EST PROPULSÉ EN TÊTE DE LA\n",
            "GESTION D’INFRASTRUCTURE, D’ANALYSE DE DONNÉES OU DANS LE DOMAINE DU\n",
            "DÉVELOPPEMENT DE LOGICIELS. EN EFFET, PARMI SES QUALITÉS, PYTHON PERMET\n",
            "NOTAMMENT AUX DÉVELOPPEURS DE SE CONCENTRER SUR CE QU’ILS FONT PLUTÔT\n",
            "QUE SUR LA MANIÈRE DONT ILS LE FONT. IL A LIBÉRÉ LES DÉVELOPPEURS DES\n",
            "CONTRAINTES DE FORMES QUI OCCUPAIENT LEUR TEMPS AVEC LES LANGAGES PLUS\n",
            "ANCIENS. AINSI, DÉVELOPPER DU CODE AVEC PYTHON EST PLUS RAPIDE QU’AVEC D’AUTRES\n",
            "LANGAGES.\n",
            "python est le langage de programmation open source le plus\n",
            "employé par les informaticiens. ce langage s’est propulsé en tête de la\n",
            "gestion d’infrastructure, d’analyse de données ou dans le domaine du\n",
            "développement de logiciels. en effet, parmi ses qualités, python permet\n",
            "notamment aux développeurs de se concentrer sur ce qu’ils font plutôt\n",
            "que sur la manière dont ils le font. il a libéré les développeurs des\n",
            "contraintes de formes qui occupaient leur temps avec les langages plus\n",
            "anciens. ainsi, développer du code avec python est plus rapide qu’avec d’autres\n",
            "langages.\n",
            "True\n",
            "False\n",
            "Dans cette formation on va voir à quoi peut servir Python.Python est le langage de programmation open source le plus\n",
            "employé par les informaticiens. Ce langage s’est propulsé en tête de la\n",
            "gestion d’infrastructure, d’analyse de données ou dans le domaine du\n",
            "développement de logiciels. En effet, parmi ses qualités, Python permet\n",
            "notamment aux développeurs de se concentrer sur ce qu’ils font plutôt\n",
            "que sur la manière dont ils le font. Il a libéré les développeurs des\n",
            "contraintes de formes qui occupaient leur temps avec les langages plus\n",
            "anciens. Ainsi, développer du code avec Python est plus rapide qu’avec d’autres\n",
            "langages.\n",
            "Python est le langage de programmation open source le plus\n",
            "employé par les informaticiens. Ce langage s’est propulsé en tête de la\n",
            "gestion d’infrastructure, d’analyse de données ou dans le secteur du\n",
            "développement de logiciels. En effet, parmi ses qualités, Python permet\n",
            "notamment aux développeurs de se concentrer sur ce qu’ils font plutôt\n",
            "que sur la manière dont ils le font. Il a libéré les développeurs des\n",
            "contraintes de formes qui occupaient leur temps avec les langages plus\n",
            "anciens. Ainsi, développer du code avec Python est plus rapide qu’avec d’autres\n",
            "langages.\n"
          ]
        }
      ]
    }
  ]
}